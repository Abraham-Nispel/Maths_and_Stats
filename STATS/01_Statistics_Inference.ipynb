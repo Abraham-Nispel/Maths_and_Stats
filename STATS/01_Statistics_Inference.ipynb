{
  "nbformat": 4,
  "nbformat_minor": 0,
  "metadata": {
    "colab": {
      "provenance": [],
      "authorship_tag": "ABX9TyPXhor7AqbZN19PnbCl5bqK",
      "include_colab_link": true
    },
    "kernelspec": {
      "name": "python3",
      "display_name": "Python 3"
    },
    "language_info": {
      "name": "python"
    }
  },
  "cells": [
    {
      "cell_type": "markdown",
      "metadata": {
        "id": "view-in-github",
        "colab_type": "text"
      },
      "source": [
        "<a href=\"https://colab.research.google.com/github/Abraham-Nispel/Maths_and_Stats/blob/main/STATS/01_Statistics_Inference.ipynb\" target=\"_parent\"><img src=\"https://colab.research.google.com/assets/colab-badge.svg\" alt=\"Open In Colab\"/></a>"
      ]
    },
    {
      "cell_type": "markdown",
      "source": [
        "# Statistics\n",
        "STATISTICAL INFERENCE, PARAMETER\n",
        "ESTIMATION, AND MODEL VERIFICATION\n",
        "## References:\n",
        "1. FUNDAMENTALS OF PROBABILITY AND STATISTICS FOR ENGINEERS by T.T.SONG [Link]()"
      ],
      "metadata": {
        "id": "3FWsYAenUbn3"
      }
    },
    {
      "cell_type": "code",
      "source": [
        "#@title  Upload libraries\n",
        "\n",
        "# Datascience libraries\n",
        "import math\n",
        "import numpy as np\n",
        "import pandas as pd\n",
        "\n",
        "# Machine learning preprocesing\n",
        "# Machine learning modelling\n",
        "# Machine learning validation\n",
        "\n",
        "# Ploting libraries\n",
        "import matplotlib.pyplot as plt\n",
        "import seaborn as sns\n",
        "# set seed for reproducibility\n",
        "np.random.seed(0)"
      ],
      "metadata": {
        "cellView": "form",
        "id": "cS6eAayCUwlO"
      },
      "execution_count": null,
      "outputs": []
    },
    {
      "cell_type": "markdown",
      "source": [
        "### Outliers\n",
        "two methods\n",
        "* The interquantile method\n",
        "* The z-score method"
      ],
      "metadata": {
        "id": "h1Vg8NKzUn4K"
      }
    },
    {
      "cell_type": "code",
      "source": [
        "#@title Load libraries and functions\n",
        "# Libraries\n",
        "import pandas as pd\n",
        "import seaborn as sns\n",
        "import matplotlib.pyplot as plt\n",
        "\n",
        "# Functions\n",
        "def outliers(df, n, features):\n",
        "    \"\"\"\n",
        "    This function computes the outliers based on the interquartile range method and for the z-score method.\n",
        "\n",
        "    Args:\n",
        "        df (pd.DataFrame): The dataframe containing the data.\n",
        "        n (int): The number of standard deviations to use for the z-score method.\n",
        "        features (list): A list of features to compute the outliers for.\n",
        "\n",
        "    Returns:\n",
        "        tuple: Two dataframes, one with the outliers calculated by the IQR method and the other by the z-score method.\n",
        "    \"\"\"\n",
        "    # Initialize lists to store outlier records\n",
        "    outliers_iqr_records = []\n",
        "    outliers_zscore_records = []\n",
        "\n",
        "    for col in features:\n",
        "        # IQR method\n",
        "        q1 = df[col].quantile(0.25)\n",
        "        q3 = df[col].quantile(0.75)\n",
        "        iqr = q3 - q1\n",
        "        lower_bound = q1 - 1.5 * iqr\n",
        "        upper_bound = q3 + 1.5 * iqr\n",
        "        iqr_outliers = df[(df[col] < lower_bound) | (df[col] > upper_bound)]\n",
        "        for index, row in iqr_outliers.iterrows():\n",
        "            outliers_iqr_records.append([index, col, row[col]])\n",
        "\n",
        "        # Z-score method\n",
        "        mean = df[col].mean()\n",
        "        std = df[col].std()\n",
        "        z_scores = (df[col] - mean) / std\n",
        "        z_outliers = df[abs(z_scores) > n]\n",
        "        for index, row in z_outliers.iterrows():\n",
        "            outliers_zscore_records.append([index, col, row[col]])\n",
        "\n",
        "    # Convert the lists of records into DataFrames\n",
        "    df_outliers_iqr = pd.DataFrame(outliers_iqr_records, columns=['Index', 'Feature_Name', 'Outlier_Value'])\n",
        "    df_outliers_zscore = pd.DataFrame(outliers_zscore_records, columns=['Index', 'Feature_Name', 'Outlier_Value'])\n",
        "\n",
        "    return df_outliers_iqr, df_outliers_zscore"
      ],
      "metadata": {
        "id": "XwuhFCO2VDcv"
      },
      "execution_count": 1,
      "outputs": []
    },
    {
      "cell_type": "code",
      "source": [
        "#@title Example 1 Outliers (part 1)\n",
        "# Load Sample data\n",
        "in_data = sns.load_dataset(\"tips\"); #print(in_data.head())  # You can replace this with your own dataset\n",
        "\n",
        "# Create a boxplot using Seaborn (categorical)\n",
        "sns.boxplot(x=\"day\", y=\"total_bill\", data=in_data) # x= categorical values, y=numerical\n",
        "# Add info and Show the plot\n",
        "plt.xlabel(\"Day of the Week\"); plt.ylabel(\"Total Bill ($)\")\n",
        "plt.title(\"Distribution of Total Bill Amounts by Day\")\n",
        "plt.show()\n",
        "\n",
        "new_df = pd.DataFrame({'day': in_data['day'],\n",
        "                       'total_bill': in_data['total_bill'],\n",
        "                       'total_bill_2': in_data['total_bill']})\n",
        "new_df.head()"
      ],
      "metadata": {
        "id": "4rS6g-zQVPJa"
      },
      "execution_count": null,
      "outputs": []
    },
    {
      "cell_type": "code",
      "source": [
        "#@title Example 1 Outliers (part 2)\n",
        "# Assuming 'df' is your DataFrame and you're interested in features 'Feature1' and 'Feature2'\n",
        "df_outliers_iqr, df_outliers_zscore = outliers(new_df, 2, ['total_bill', 'total_bill_2'])\n",
        "print(\"IQR Method Outliers:\\n\", df_outliers_iqr)\n",
        "print(\"\\nZ-Score Method Outliers:\\n\", df_outliers_zscore)\n",
        "\n",
        "# Apply Interquantile range and z score methods\n",
        "iqr_df, z_df = outliers_with_index(new_df, 3, ['total_bill'])\n",
        "print(iqr_df)\n",
        "print(z_df)#"
      ],
      "metadata": {
        "id": "TX4p_BvdWFUS"
      },
      "execution_count": null,
      "outputs": []
    }
  ]
}